{
 "cells": [
  {
   "cell_type": "code",
   "execution_count": 1,
   "id": "fe16355b-5137-4339-a962-f89836078c7c",
   "metadata": {},
   "outputs": [],
   "source": [
    "import pandas as pd"
   ]
  },
  {
   "cell_type": "code",
   "execution_count": 36,
   "id": "e85d1748-9cd0-4337-8a4b-7825d7c43866",
   "metadata": {},
   "outputs": [
    {
     "name": "stdout",
     "output_type": "stream",
     "text": [
      "aaa\n",
      "bbb\n",
      "ccc\n",
      "\n",
      "#####\n",
      "zzz\n",
      "#####\n",
      "\n",
      "hoge,fuga\n",
      "1,100\n",
      "2,200\n",
      "3,300\n",
      "\n",
      "#####\n",
      "xxx\n",
      "#####\n",
      "\n",
      "hoge,fuga\n",
      "10,1000\n",
      "20,2000\n",
      "30,3000\n",
      "\n"
     ]
    }
   ],
   "source": [
    "with open(\"test.csv\", \"r\", encoding=\"utf-8\") as f:\n",
    "    hoge = f.read()\n",
    "\n",
    "print(hoge)"
   ]
  },
  {
   "cell_type": "code",
   "execution_count": 33,
   "id": "ca977053-6422-4d57-9ce6-f3c916fe1091",
   "metadata": {},
   "outputs": [
    {
     "name": "stdout",
     "output_type": "stream",
     "text": [
      "title: zzz\n",
      "\n",
      "hoge,fuga\n",
      "1,100\n",
      "2,200\n",
      "3,300\n",
      "\n",
      "#####\n",
      "title: xxx\n",
      "\n",
      "hoge,fuga\n",
      "10,1000\n",
      "20,2000\n",
      "30,3000\n"
     ]
    }
   ],
   "source": [
    "with open(\"test.csv\", \"r\", encoding=\"utf-8\") as f:\n",
    "    # 直近3行のリスト\n",
    "    li_new_3line = [\"\", \"\", \"\"]\n",
    "\n",
    "    # 全データのdict\n",
    "    dict_data = {}\n",
    "\n",
    "    while True:\n",
    "        # 直近3行を更新\n",
    "        try:\n",
    "            line = next(f).strip()\n",
    "        except StopIteration:\n",
    "            break\n",
    "        li_new_3line.append(line)\n",
    "        del li_new_3line[0]\n",
    "\n",
    "        # \"#####\"に囲まれている文字列を拾う\n",
    "        if li_new_3line[0] == \"#\"*5 and li_new_3line[-1] == \"#\"*5:\n",
    "            title = li_new_3line[1]\n",
    "            print(f\"title: {title}\")\n",
    "\n",
    "            # 次の行から再度\"#####\"が出るまで読み込む\n",
    "            li_data_tmp = []\n",
    "            while True:\n",
    "                try:\n",
    "                    line = next(f).strip()\n",
    "                    print(line)\n",
    "                    if line != \"#\"*5:\n",
    "                        li_data_tmp.append(line)\n",
    "                    else:\n",
    "                        # とりあえず辞書に入れる（空文字列は除外）\n",
    "                        dict_data[title] = [i.split(\",\") for i in li_data_tmp if i != \"\"]\n",
    "                        break\n",
    "                except StopIteration:\n",
    "                    dict_data[title] = [i.split(\",\") for i in li_data_tmp if i != \"\"]\n",
    "                    break"
   ]
  },
  {
   "cell_type": "code",
   "execution_count": 34,
   "id": "c729a944-429b-451e-ae38-6b654a2cee05",
   "metadata": {},
   "outputs": [
    {
     "data": {
      "text/plain": [
       "{'zzz': [['hoge', 'fuga'], ['1', '100'], ['2', '200'], ['3', '300']],\n",
       " 'xxx': [['hoge', 'fuga'], ['10', '1000'], ['20', '2000'], ['30', '3000']]}"
      ]
     },
     "execution_count": 34,
     "metadata": {},
     "output_type": "execute_result"
    }
   ],
   "source": [
    "dict_data"
   ]
  },
  {
   "cell_type": "code",
   "execution_count": null,
   "id": "16e8b678-21a3-4b79-9c6a-c4f99163a5d7",
   "metadata": {},
   "outputs": [],
   "source": []
  }
 ],
 "metadata": {
  "kernelspec": {
   "display_name": "Python 3 (ipykernel)",
   "language": "python",
   "name": "python3"
  },
  "language_info": {
   "codemirror_mode": {
    "name": "ipython",
    "version": 3
   },
   "file_extension": ".py",
   "mimetype": "text/x-python",
   "name": "python",
   "nbconvert_exporter": "python",
   "pygments_lexer": "ipython3",
   "version": "3.12.1"
  }
 },
 "nbformat": 4,
 "nbformat_minor": 5
}
