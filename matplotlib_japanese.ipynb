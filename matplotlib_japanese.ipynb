{
 "cells": [
  {
   "cell_type": "markdown",
   "metadata": {},
   "source": [
    "# matplotlibで日本語を使う\n",
    "\n",
    "* matplotlibはデフォルトでは日本語が表示できない\n",
    "* windowsのフォントを利用するか、個別にフォントをインストールする必要がある"
   ]
  },
  {
   "cell_type": "markdown",
   "metadata": {},
   "source": [
    "## 個別にフォントをインストールする\n",
    "\n",
    "参考\n",
    "\n",
    "matplotlibの日本語表示  \n",
    "http://kaisk.hatenadiary.com/entry/2015/02/15/215831  \n",
    "\n",
    "上記の補足（fontList.jsonについて）  \n",
    "https://qiita.com/lascasM/items/7e226ee3a5c687eaf2d9"
   ]
  },
  {
   "cell_type": "code",
   "execution_count": 2,
   "metadata": {},
   "outputs": [
    {
     "name": "stdout",
     "output_type": "stream",
     "text": [
      "matplotlibの所在\n",
      "['C:\\\\Users\\\\naohiroyoshida\\\\AppData\\\\Local\\\\Continuum\\\\anaconda3', 'C:\\\\Users\\\\naohiroyoshida\\\\AppData\\\\Local\\\\Continuum\\\\anaconda3\\\\lib\\\\site-packages']\n",
      "\n",
      "\n",
      "matplotlibの設定ファイルの所在\n",
      "C:\\Users\\naohiroyoshida\\.matplotlib\\matplotlibrc\n"
     ]
    }
   ],
   "source": [
    "# matplotlibの所在確認\n",
    "import site\n",
    "import matplotlib\n",
    "\n",
    "print(\"matplotlibの所在\")\n",
    "print(site.getsitepackages())\n",
    "\n",
    "print(\"\\n\")\n",
    "\n",
    "# matplotlibの設定ファイルの所在確認\n",
    "print(\"matplotlibの設定ファイルの所在\")\n",
    "print(matplotlib.matplotlib_fname())"
   ]
  },
  {
   "cell_type": "markdown",
   "metadata": {},
   "source": [
    "#### ユーザー設定ファイルの作成\n",
    "デフォルトの設定ファイルを書き変えるのを避けるため、上で確認したmatplotlibの設定ファイル（matplotlibrc）を、`C:\\Users\\naohiroyoshida\\.matplotlib`にコピーする  \n",
    "（ここに設定ファイルが存在する場合はこちらが優先的に読み込まれる）  \n",
    "コピーした設定ファイル（ユーザー設定ファイル）に下記のようにインストールするフォントを追記\n",
    "```\n",
    "font.family : IPAGothic\n",
    "```\n",
    "\n",
    "#### フォントのインストール\n",
    "\n",
    "上で確認したmatplotlibの所在フォルダ（下記）にインストールしたいフォントのttfファイルをコピーすればok  \n",
    "matplotlibにインストールした場合は、matplotlibのアップデートなどで消える場合があるので注意  \n",
    "その際は、再度下記フォルダにフォントファイルをコピーする\n",
    "\n",
    "Continuum\\anaconda3\\lib\\site-packages\\matplotlib\\mpl-data\\fonts\\ttf\n",
    "\n",
    "#### フォントのキャッシュ削除\n",
    "\n",
    "matplotlibは使うフォントのキャッシュを持っていて、それを削除しないと設定が読み込まれない。  \n",
    "そのため、デフォルト設定ファイル、ユーザー設定ファイルの存在するフォルダにある、`fontList.cache`もしくは`fontList.py3k.cache`を削除する\n",
    "※ファイルが存在しない場合は削除しなくてok\n",
    "\n",
    "#### fontList.jsonの削除\n",
    "\n",
    "このファイルはmatplotlibがmatplotlibのフォントディレクトリとシステムのフォントディレクトリをスキャンして自動生成している  \n",
    "このため、新しいフォントをインストールした場合は、fontList.jsonがない状態でplotを実行して、新しくインストールしたフォントが認識されたfontList.jsonを生成する必要がある"
   ]
  },
  {
   "cell_type": "code",
   "execution_count": 3,
   "metadata": {},
   "outputs": [
    {
     "name": "stdout",
     "output_type": "stream",
     "text": [
      "C:\\Users\\naohiroyoshida\\.matplotlib\n"
     ]
    }
   ],
   "source": [
    "# キャッシュファイルの所在確認\n",
    "import matplotlib\n",
    "from matplotlib import rc\n",
    "print(matplotlib.get_cachedir())"
   ]
  },
  {
   "cell_type": "code",
   "execution_count": 4,
   "metadata": {},
   "outputs": [],
   "source": [
    "# キャッシュファイルの削除\n",
    "import os\n",
    "#os.remove('C:\\\\Users\\\\naohiroyoshida\\\\.matplotlib\\\\fontList.cache')\n",
    "#os.remove('C:\\\\Users\\\\naohiroyoshida\\\\.matplotlib\\\\fontList.py3k.cache')"
   ]
  },
  {
   "cell_type": "code",
   "execution_count": 5,
   "metadata": {},
   "outputs": [
    {
     "data": {
      "text/plain": [
       "Text(0.5,1,'豆腐 - TOFU')"
      ]
     },
     "execution_count": 5,
     "metadata": {},
     "output_type": "execute_result"
    },
    {
     "data": {
      "image/png": "[encoded data removed]",
      "text/plain": [
       "<matplotlib.figure.Figure at 0x56a6ac8>"
      ]
     },
     "metadata": {},
     "output_type": "display_data"
    }
   ],
   "source": [
    "# 日本語のテスト\n",
    "import matplotlib.pyplot as plt\n",
    "%matplotlib inline\n",
    "\n",
    "#plt.rcParams['font.family'] = 'IPAGothic'\n",
    "\n",
    "\n",
    "plt.figure()\n",
    "plt.xlabel('豆腐 - tofu')\n",
    "plt.title('豆腐 - TOFU')"
   ]
  },
  {
   "cell_type": "code",
   "execution_count": null,
   "metadata": {},
   "outputs": [],
   "source": []
  },
  {
   "cell_type": "markdown",
   "metadata": {},
   "source": [
    "## windowsのフォントを使用する\n",
    "\n",
    "参考  \n",
    "https://takala.tokyo/takala_wp/2017/10/29/223/"
   ]
  },
  {
   "cell_type": "code",
   "execution_count": null,
   "metadata": {},
   "outputs": [],
   "source": []
  }
 ],
 "metadata": {
  "kernelspec": {
   "display_name": "Python 3",
   "language": "python",
   "name": "python3"
  },
  "language_info": {
   "codemirror_mode": {
    "name": "ipython",
    "version": 3
   },
   "file_extension": ".py",
   "mimetype": "text/x-python",
   "name": "python",
   "nbconvert_exporter": "python",
   "pygments_lexer": "ipython3",
   "version": "3.6.4"
  }
 },
 "nbformat": 4,
 "nbformat_minor": 2
}
