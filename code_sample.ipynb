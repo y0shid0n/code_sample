{
 "cells": [
  {
   "cell_type": "markdown",
   "metadata": {},
   "source": [
    "# コード片をメモしていく"
   ]
  },
  {
   "cell_type": "code",
   "execution_count": 1,
   "metadata": {
    "collapsed": true
   },
   "outputs": [],
   "source": [
    "import pandas as pd\n",
    "import numpy as np\n",
    "import re\n",
    "from collections import Counter\n",
    "import pyodbc\n",
    "import json\n",
    "from collections import OrderedDict\n",
    "import datetime as dt"
   ]
  },
  {
   "cell_type": "code",
   "execution_count": 35,
   "metadata": {
    "collapsed": true
   },
   "outputs": [],
   "source": []
  },
  {
   "cell_type": "markdown",
   "metadata": {},
   "source": [
    "### アカウント情報などをテキストファイルから読み込む\n",
    "yoshida_naohiro  \n",
    "password  \n",
    "\n",
    "みたいな感じのファイル"
   ]
  },
  {
   "cell_type": "code",
   "execution_count": 31,
   "metadata": {
    "collapsed": true
   },
   "outputs": [],
   "source": [
    "# ファイル読み込み\n",
    "f = open(\"./account.txt\")\n",
    "lines = f.readlines()\n",
    "f.close()\n",
    "# 改行の除去\n",
    "uid = lines[0].replace(\"\\n\",\"\").replace(\"\\r\",\"\")\n",
    "pwd = lines[1].replace(\"\\n\", \"\").replace(\"\\r\",\"\")"
   ]
  },
  {
   "cell_type": "code",
   "execution_count": 32,
   "metadata": {},
   "outputs": [
    {
     "name": "stdout",
     "output_type": "stream",
     "text": [
      "yoshida_naohiro\n",
      "password\n"
     ]
    }
   ],
   "source": [
    "print(uid)\n",
    "print(pwd)"
   ]
  },
  {
   "cell_type": "code",
   "execution_count": 34,
   "metadata": {},
   "outputs": [
    {
     "name": "stdout",
     "output_type": "stream",
     "text": [
      "yoshida_naohiro\n",
      "password\n"
     ]
    }
   ],
   "source": [
    "# withを使う\n",
    "with open(\"./account.txt\") as f:\n",
    "    lines = f.readlines()\n",
    "    uid = lines[0].replace(\"\\n\",\"\").replace(\"\\r\",\"\")\n",
    "    pwd = lines[1].replace(\"\\n\", \"\").replace(\"\\r\",\"\")\n",
    "\n",
    "print(uid)\n",
    "print(pwd)"
   ]
  },
  {
   "cell_type": "markdown",
   "metadata": {},
   "source": [
    "### Redshiftの接続サンプル"
   ]
  },
  {
   "cell_type": "markdown",
   "metadata": {},
   "source": [
    "#### sql\n",
    "```\n",
    "sql = \"\"\"select * from table limit 10\"\"\"\n",
    "```\n",
    "\n",
    "#### 接続設定\n",
    "```\n",
    "conn = pyodbc.connect(\n",
    "r'DRIVER={{Amazon Redshift (x64)}};'\n",
    "r'SERVER=xxxxxxxxxxxxxxxxxxxxx.redshift.amazonaws.com;'\n",
    "r'Port=9999;'\n",
    "r'DATABASE=database;'\n",
    "r'UID={0};PWD={1};'.format(uid,pwd)\n",
    ")\n",
    "```\n",
    "\n",
    "#### sqlの結果をDataFrameに格納\n",
    "```\n",
    "df = pd.io.sql.read_sql(sql, conn)\n",
    "```"
   ]
  },
  {
   "cell_type": "code",
   "execution_count": null,
   "metadata": {
    "collapsed": true
   },
   "outputs": [],
   "source": []
  },
  {
   "cell_type": "markdown",
   "metadata": {},
   "source": [
    "### twitterのハッシュタグ抽出"
   ]
  },
  {
   "cell_type": "code",
   "execution_count": 21,
   "metadata": {},
   "outputs": [
    {
     "data": {
      "text/plain": [
       "array([['111111', 'あいうえお。#ハッシュタグ1 #ハッシュタグ2'],\n",
       "       ['222222', 'かきくけこ\\u3000#ハッシュタグ2\\u3000さしすせそ\\u3000#ハッシュタグ４']],\n",
       "      dtype='<U29')"
      ]
     },
     "execution_count": 21,
     "metadata": {},
     "output_type": "execute_result"
    }
   ],
   "source": [
    "# サンプルdataframeの作成\n",
    "# とりあえずnumpyで作る\n",
    "data = np.array([\n",
    "    [111111,u\"あいうえお。#ハッシュタグ1 #ハッシュタグ2\"]\n",
    "    ,[222222, u\"かきくけこ　#ハッシュタグ2　さしすせそ　#ハッシュタグ４\"]\n",
    "])\n",
    "data"
   ]
  },
  {
   "cell_type": "code",
   "execution_count": 22,
   "metadata": {},
   "outputs": [
    {
     "data": {
      "text/html": [
       "<div>\n",
       "<style>\n",
       "    .dataframe thead tr:only-child th {\n",
       "        text-align: right;\n",
       "    }\n",
       "\n",
       "    .dataframe thead th {\n",
       "        text-align: left;\n",
       "    }\n",
       "\n",
       "    .dataframe tbody tr th {\n",
       "        vertical-align: top;\n",
       "    }\n",
       "</style>\n",
       "<table border=\"1\" class=\"dataframe\">\n",
       "  <thead>\n",
       "    <tr style=\"text-align: right;\">\n",
       "      <th></th>\n",
       "      <th>user_id</th>\n",
       "      <th>tweet</th>\n",
       "    </tr>\n",
       "  </thead>\n",
       "  <tbody>\n",
       "    <tr>\n",
       "      <th>0</th>\n",
       "      <td>111111</td>\n",
       "      <td>あいうえお。#ハッシュタグ1 #ハッシュタグ2</td>\n",
       "    </tr>\n",
       "    <tr>\n",
       "      <th>1</th>\n",
       "      <td>222222</td>\n",
       "      <td>かきくけこ　#ハッシュタグ2　さしすせそ　#ハッシュタグ４</td>\n",
       "    </tr>\n",
       "  </tbody>\n",
       "</table>\n",
       "</div>"
      ],
      "text/plain": [
       "  user_id                          tweet\n",
       "0  111111        あいうえお。#ハッシュタグ1 #ハッシュタグ2\n",
       "1  222222  かきくけこ　#ハッシュタグ2　さしすせそ　#ハッシュタグ４"
      ]
     },
     "execution_count": 22,
     "metadata": {},
     "output_type": "execute_result"
    }
   ],
   "source": [
    "df = pd.DataFrame(data, columns=['user_id', 'tweet'])\n",
    "df"
   ]
  },
  {
   "cell_type": "code",
   "execution_count": 23,
   "metadata": {
    "collapsed": true
   },
   "outputs": [],
   "source": [
    "# 格納用の空リスト\n",
    "hashtag_list = []\n",
    "\n",
    "# ハッシュタグの抽出\n",
    "for index, row in df.iterrows():\n",
    "    tmp = row.tweet.split(\"#\")\n",
    "    del tmp[0] # 1つ目の#より前の要素を削除\n",
    "    hashtag_list = hashtag_list + tmp"
   ]
  },
  {
   "cell_type": "code",
   "execution_count": 24,
   "metadata": {},
   "outputs": [
    {
     "data": {
      "text/plain": [
       "['ハッシュタグ1 ', 'ハッシュタグ2', 'ハッシュタグ2\\u3000さしすせそ\\u3000', 'ハッシュタグ４']"
      ]
     },
     "execution_count": 24,
     "metadata": {},
     "output_type": "execute_result"
    }
   ],
   "source": [
    "hashtag_list"
   ]
  },
  {
   "cell_type": "code",
   "execution_count": 25,
   "metadata": {
    "collapsed": true
   },
   "outputs": [],
   "source": [
    "# 格納用の空リスト\n",
    "hashtag_list_fix = []\n",
    "\n",
    "# 正規表現パターン（空白文字）\n",
    "pattern = re.compile(r\"\\s+\")\n",
    "\n",
    "# ハッシュタグ後のスペース以前のみ残す\n",
    "for i in range(len(hashtag_list)):\n",
    "    tmp = re.split(pattern, hashtag_list[i])[0]\n",
    "    hashtag_list_fix.append(tmp)"
   ]
  },
  {
   "cell_type": "code",
   "execution_count": 26,
   "metadata": {},
   "outputs": [
    {
     "data": {
      "text/plain": [
       "['ハッシュタグ1', 'ハッシュタグ2', 'ハッシュタグ2', 'ハッシュタグ４']"
      ]
     },
     "execution_count": 26,
     "metadata": {},
     "output_type": "execute_result"
    }
   ],
   "source": [
    "hashtag_list_fix"
   ]
  },
  {
   "cell_type": "code",
   "execution_count": 27,
   "metadata": {
    "collapsed": true
   },
   "outputs": [],
   "source": [
    "# 各要素の数をカウント\n",
    "cnt = Counter(hashtag_list_fix)\n",
    "cnt_list = cnt.most_common()"
   ]
  },
  {
   "cell_type": "code",
   "execution_count": 28,
   "metadata": {},
   "outputs": [
    {
     "data": {
      "text/plain": [
       "[('ハッシュタグ2', 2), ('ハッシュタグ1', 1), ('ハッシュタグ４', 1)]"
      ]
     },
     "execution_count": 28,
     "metadata": {},
     "output_type": "execute_result"
    }
   ],
   "source": [
    "cnt_list"
   ]
  },
  {
   "cell_type": "code",
   "execution_count": 36,
   "metadata": {
    "collapsed": true
   },
   "outputs": [],
   "source": [
    "# 不要な文字列を削除してテキストファイルへ出力\n",
    "with open(\"hashtag_count_result.txt\", \"w\", encoding=\"utf-8\", newline=None) as f:\n",
    "    f.write(\"hashtag, cnt\\n\")\n",
    "    for x in cnt_list:\n",
    "        x = str(x)\n",
    "        x = x.replace(\"(\", \"\")\n",
    "        x = x.replace(\"'\", \"\")\n",
    "        x = x.replace(\")\", \"\")\n",
    "        f.write(x + \"\\n\")"
   ]
  },
  {
   "cell_type": "code",
   "execution_count": null,
   "metadata": {
    "collapsed": true
   },
   "outputs": [],
   "source": []
  },
  {
   "cell_type": "markdown",
   "metadata": {},
   "source": [
    "### jsonを処理する\n",
    "jsonはpythonのdictionaryとして扱うことが可能"
   ]
  },
  {
   "cell_type": "code",
   "execution_count": null,
   "metadata": {
    "collapsed": true
   },
   "outputs": [],
   "source": [
    "# サンプル用のjsonファイル作成\n",
    "sample = {\n",
    "    \"honoka\": {\n",
    "        \"BWH\": [\n",
    "            78,\n",
    "            58,\n",
    "            82\n",
    "        ],\n",
    "        \"height\": 157\n",
    "    },\n",
    "    \"eri\": {\n",
    "        \"BWH\": [\n",
    "            88,\n",
    "            60,\n",
    "            84\n",
    "        ],\n",
    "        \"height\": 162\n",
    "    },\n",
    "    \"kotori\": {\n",
    "        \"BWH\": [\n",
    "            80,\n",
    "            58,\n",
    "            80\n",
    "        ],\n",
    "        \"height\": 159\n",
    "    },\n",
    "    \"umi\": {\n",
    "        \"BWH\": [\n",
    "            76,\n",
    "            58,\n",
    "            80\n",
    "        ],\n",
    "        \"height\": 159\n",
    "    },\n",
    "    \"rin\": {\n",
    "        \"BWH\": [\n",
    "            75,\n",
    "            59,\n",
    "            80\n",
    "        ],\n",
    "        \"height\": 155\n",
    "    },\n",
    "    \"maki\": {\n",
    "        \"BWH\": [\n",
    "            78,\n",
    "            56,\n",
    "            83\n",
    "        ],\n",
    "        \"height\": 161\n",
    "    },\n",
    "    \"nozomi\": {\n",
    "        \"BWH\": [\n",
    "            90,\n",
    "            60,\n",
    "            82\n",
    "        ],\n",
    "        \"height\": 159\n",
    "    },\n",
    "    \"hanayo\": {\n",
    "        \"BWH\": [\n",
    "            82,\n",
    "            60,\n",
    "            83\n",
    "        ],\n",
    "        \"height\": 156\n",
    "    },\n",
    "    \"niko\": {\n",
    "        \"BWH\": [\n",
    "            74,\n",
    "            57,\n",
    "            79\n",
    "        ],\n",
    "        \"height\": 154\n",
    "    }\n",
    "}"
   ]
  },
  {
   "cell_type": "code",
   "execution_count": 6,
   "metadata": {},
   "outputs": [
    {
     "data": {
      "text/plain": [
       "{'eri': {'BWH': [88, 60, 84], 'height': 162},\n",
       " 'hanayo': {'BWH': [82, 60, 83], 'height': 156},\n",
       " 'honoka': {'BWH': [78, 58, 82], 'height': 157},\n",
       " 'kotori': {'BWH': [80, 58, 80], 'height': 159},\n",
       " 'maki': {'BWH': [78, 56, 83], 'height': 161},\n",
       " 'niko': {'BWH': [74, 57, 79], 'height': 154},\n",
       " 'nozomi': {'BWH': [90, 60, 82], 'height': 159},\n",
       " 'rin': {'BWH': [75, 59, 80], 'height': 155},\n",
       " 'umi': {'BWH': [76, 58, 80], 'height': 159}}"
      ]
     },
     "execution_count": 6,
     "metadata": {},
     "output_type": "execute_result"
    }
   ],
   "source": [
    "sample"
   ]
  },
  {
   "cell_type": "code",
   "execution_count": 7,
   "metadata": {
    "collapsed": true
   },
   "outputs": [],
   "source": [
    "# jsonファイルへ書き込み\n",
    "# pythonの辞書は順序が保障されていないので、\n",
    "# 順序が入れ替わるのを防ぐ場合は、OrderDictを使う\n",
    "fw = open(\"sample.json\", \"w\")\n",
    "json.dump(sample, fw, indent=4)"
   ]
  },
  {
   "cell_type": "code",
   "execution_count": 8,
   "metadata": {},
   "outputs": [
    {
     "data": {
      "text/html": [
       "<div>\n",
       "<style>\n",
       "    .dataframe thead tr:only-child th {\n",
       "        text-align: right;\n",
       "    }\n",
       "\n",
       "    .dataframe thead th {\n",
       "        text-align: left;\n",
       "    }\n",
       "\n",
       "    .dataframe tbody tr th {\n",
       "        vertical-align: top;\n",
       "    }\n",
       "</style>\n",
       "<table border=\"1\" class=\"dataframe\">\n",
       "  <thead>\n",
       "    <tr style=\"text-align: right;\">\n",
       "      <th></th>\n",
       "      <th>eri</th>\n",
       "      <th>hanayo</th>\n",
       "      <th>honoka</th>\n",
       "      <th>kotori</th>\n",
       "      <th>maki</th>\n",
       "      <th>niko</th>\n",
       "      <th>nozomi</th>\n",
       "      <th>rin</th>\n",
       "      <th>umi</th>\n",
       "    </tr>\n",
       "  </thead>\n",
       "  <tbody>\n",
       "    <tr>\n",
       "      <th>BWH</th>\n",
       "      <td>[88, 60, 84]</td>\n",
       "      <td>[82, 60, 83]</td>\n",
       "      <td>[78, 58, 82]</td>\n",
       "      <td>[80, 58, 80]</td>\n",
       "      <td>[78, 56, 83]</td>\n",
       "      <td>[74, 57, 79]</td>\n",
       "      <td>[90, 60, 82]</td>\n",
       "      <td>[75, 59, 80]</td>\n",
       "      <td>[76, 58, 80]</td>\n",
       "    </tr>\n",
       "    <tr>\n",
       "      <th>height</th>\n",
       "      <td>162</td>\n",
       "      <td>156</td>\n",
       "      <td>157</td>\n",
       "      <td>159</td>\n",
       "      <td>161</td>\n",
       "      <td>154</td>\n",
       "      <td>159</td>\n",
       "      <td>155</td>\n",
       "      <td>159</td>\n",
       "    </tr>\n",
       "  </tbody>\n",
       "</table>\n",
       "</div>"
      ],
      "text/plain": [
       "                 eri        hanayo        honoka        kotori          maki  \\\n",
       "BWH     [88, 60, 84]  [82, 60, 83]  [78, 58, 82]  [80, 58, 80]  [78, 56, 83]   \n",
       "height           162           156           157           159           161   \n",
       "\n",
       "                niko        nozomi           rin           umi  \n",
       "BWH     [74, 57, 79]  [90, 60, 82]  [75, 59, 80]  [76, 58, 80]  \n",
       "height           154           159           155           159  "
      ]
     },
     "execution_count": 8,
     "metadata": {},
     "output_type": "execute_result"
    }
   ],
   "source": [
    "# pandasで読み込む\n",
    "# 入れ子がない単純なjson形式ならこれで一発でDataFrameにできる\n",
    "df_json = pd.read_json(\"sample.json\")\n",
    "df_json"
   ]
  },
  {
   "cell_type": "code",
   "execution_count": 9,
   "metadata": {
    "scrolled": true
   },
   "outputs": [
    {
     "name": "stdout",
     "output_type": "stream",
     "text": [
      "{\n",
      "  \"eri\": {\n",
      "    \"BWH\": [\n",
      "      88,\n",
      "      60,\n",
      "      84\n",
      "    ],\n",
      "    \"height\": 162\n",
      "  },\n",
      "  \"hanayo\": {\n",
      "    \"BWH\": [\n",
      "      82,\n",
      "      60,\n",
      "      83\n",
      "    ],\n",
      "    \"height\": 156\n",
      "  },\n",
      "  \"honoka\": {\n",
      "    \"BWH\": [\n",
      "      78,\n",
      "      58,\n",
      "      82\n",
      "    ],\n",
      "    \"height\": 157\n",
      "  },\n",
      "  \"kotori\": {\n",
      "    \"BWH\": [\n",
      "      80,\n",
      "      58,\n",
      "      80\n",
      "    ],\n",
      "    \"height\": 159\n",
      "  },\n",
      "  \"maki\": {\n",
      "    \"BWH\": [\n",
      "      78,\n",
      "      56,\n",
      "      83\n",
      "    ],\n",
      "    \"height\": 161\n",
      "  },\n",
      "  \"niko\": {\n",
      "    \"BWH\": [\n",
      "      74,\n",
      "      57,\n",
      "      79\n",
      "    ],\n",
      "    \"height\": 154\n",
      "  },\n",
      "  \"nozomi\": {\n",
      "    \"BWH\": [\n",
      "      90,\n",
      "      60,\n",
      "      82\n",
      "    ],\n",
      "    \"height\": 159\n",
      "  },\n",
      "  \"rin\": {\n",
      "    \"BWH\": [\n",
      "      75,\n",
      "      59,\n",
      "      80\n",
      "    ],\n",
      "    \"height\": 155\n",
      "  },\n",
      "  \"umi\": {\n",
      "    \"BWH\": [\n",
      "      76,\n",
      "      58,\n",
      "      80\n",
      "    ],\n",
      "    \"height\": 159\n",
      "  }\n",
      "}\n"
     ]
    }
   ],
   "source": [
    "# jsonで読み込む\n",
    "with open(\"sample.json\", \"r\") as f:\n",
    "    json_data = json.load(f)\n",
    "\n",
    "# 中身の確認\n",
    "#ensure_ascii=Trueだと、日本語が\\u3044のような形で出力されてしまう\n",
    "#indentを指定することで、改行とindentが追加されて見やすくなる\n",
    "#sort_keysを指定すると、辞書の順番がキーでソートされる\n",
    "print(json.dumps(json_data, indent=2, sort_keys=True, ensure_ascii=False))"
   ]
  },
  {
   "cell_type": "code",
   "execution_count": 19,
   "metadata": {},
   "outputs": [
    {
     "name": "stdout",
     "output_type": "stream",
     "text": [
      "dict_keys(['honoka', 'eri', 'kotori', 'umi', 'rin', 'maki', 'nozomi', 'hanayo', 'niko'])\n",
      "dict_values([{'BWH': [78, 58, 82], 'height': 157}, {'BWH': [88, 60, 84], 'height': 162}, {'BWH': [80, 58, 80], 'height': 159}, {'BWH': [76, 58, 80], 'height': 159}, {'BWH': [75, 59, 80], 'height': 155}, {'BWH': [78, 56, 83], 'height': 161}, {'BWH': [90, 60, 82], 'height': 159}, {'BWH': [82, 60, 83], 'height': 156}, {'BWH': [74, 57, 79], 'height': 154}])\n",
      "dict_items([('honoka', {'BWH': [78, 58, 82], 'height': 157}), ('eri', {'BWH': [88, 60, 84], 'height': 162}), ('kotori', {'BWH': [80, 58, 80], 'height': 159}), ('umi', {'BWH': [76, 58, 80], 'height': 159}), ('rin', {'BWH': [75, 59, 80], 'height': 155}), ('maki', {'BWH': [78, 56, 83], 'height': 161}), ('nozomi', {'BWH': [90, 60, 82], 'height': 159}), ('hanayo', {'BWH': [82, 60, 83], 'height': 156}), ('niko', {'BWH': [74, 57, 79], 'height': 154})])\n",
      "*****\n",
      "dict_keys(['BWH', 'height'])\n",
      "dict_values([[78, 58, 82], 157])\n",
      "157\n",
      "[78, 58, 82]\n",
      "78\n"
     ]
    }
   ],
   "source": [
    "# jsonデータの操作\n",
    "# dictionaryの操作と同じ\n",
    "\n",
    "# keyの一覧を取得\n",
    "print(json_data.keys())\n",
    "# valueの一覧\n",
    "print(json_data.values())\n",
    "# key, valueの組み合わせの一覧\n",
    "print(json_data.items())\n",
    "print(\"*****\")\n",
    "# キーを指定して取得する\n",
    "print(json_data[\"honoka\"].keys())\n",
    "print(json_data[\"honoka\"].values())\n",
    "print(json_data[\"honoka\"][\"height\"])\n",
    "print(json_data[\"honoka\"][\"BWH\"])\n",
    "print(json_data[\"honoka\"][\"BWH\"][0]) # 最後はリストなので"
   ]
  },
  {
   "cell_type": "code",
   "execution_count": null,
   "metadata": {
    "collapsed": true
   },
   "outputs": [],
   "source": []
  },
  {
   "cell_type": "markdown",
   "metadata": {},
   "source": [
    "### 重複除外\n",
    "集合を使うことでできる"
   ]
  },
  {
   "cell_type": "code",
   "execution_count": 22,
   "metadata": {},
   "outputs": [
    {
     "name": "stdout",
     "output_type": "stream",
     "text": [
      "[3333, 2222, 1111]\n",
      "3333,2222,1111\n"
     ]
    }
   ],
   "source": [
    "# サンプルのリスト\n",
    "list_dup = [1111, 2222, 2222, 3333, 1111]\n",
    "list_unique = list(set(list_dup))\n",
    "print(list_unique)\n",
    "\n",
    "# 文字列へ置換（おまけ）\n",
    "# 文字列 = \"区切り文字\".join(リスト) で文字列に連結できる\n",
    "# mapでリスト全体にstr()を適用して、joinで繋げている\n",
    "# mapはmapオブジェクトを返すので、一度listに変換しないといけない気がするけどしなくても通るのはなぜ...？\n",
    "list_str = \",\".join(map(str, list_unique))\n",
    "print(list_str)"
   ]
  },
  {
   "cell_type": "code",
   "execution_count": null,
   "metadata": {
    "collapsed": true
   },
   "outputs": [],
   "source": []
  },
  {
   "cell_type": "markdown",
   "metadata": {},
   "source": [
    "### コマンドラインパーサー\n",
    "```\n",
    "import argparse\n",
    "parser = argparse.ArgumentParser(description='description for arguments')\n",
    "parser.add_argument('args_name', type=str, nargs=1,\n",
    "                     help='help for agruments')\n",
    "\n",
    "args = parser.parse_args()\n",
    "args_str = args.args_name[0]\n",
    "```\n",
    "\n",
    "parser.add_argumentについて  \n",
    "第一引数：引数の名前。この名前でparser.parse_args()から引数を呼び出す  \n",
    "type：引数の型。str, intなどが指定できる  \n",
    "nargs：引数の数。固定値を指定すると、その数の引数がないとエラーが出る（はず）。\"\\*\"を指定すると、可変長引数も使用できる  \n",
    "help：エラー発生時に表示されるhelp\n",
    "\n",
    "2つ以上の異なる引数を使用する場合は、それぞれをparse.add_argumentで定義する"
   ]
  },
  {
   "cell_type": "code",
   "execution_count": null,
   "metadata": {
    "collapsed": true
   },
   "outputs": [],
   "source": []
  },
  {
   "cell_type": "markdown",
   "metadata": {},
   "source": [
    "### pandasあれこれ"
   ]
  },
  {
   "cell_type": "code",
   "execution_count": 31,
   "metadata": {},
   "outputs": [
    {
     "name": "stdout",
     "output_type": "stream",
     "text": [
      "   id  value1  value2  value3\n",
      "0   1     100     200     300\n",
      "1   2      20      50      20\n",
      "2   3      50     100     150\n",
      "   id  value1  value2  value3  value4  value5\n",
      "0   1     100     200     300    10.0    10.0\n",
      "1   2      20      50      20     2.0     2.0\n",
      "2   3      50     100     150     5.0     5.0\n"
     ]
    }
   ],
   "source": [
    "# あるカラムに関数を適用したカラムを新しく作る\n",
    "# サンプルデータ\n",
    "data = np.array([\n",
    "    [1,100,200,300]\n",
    "    ,[2,20,50,20]\n",
    "    ,[3,50,100,150]\n",
    "])\n",
    "\n",
    "df = pd.DataFrame(data, columns=[\"id\",\"value1\", \"value2\", \"value3\"])\n",
    "print(df)\n",
    "\n",
    "# value1を10で割った数を新しいカラムに入れる\n",
    "df[\"value4\"] = df[\"value1\"].apply(lambda x: x/10)\n",
    "# ぶっちゃけ↓でもいけるといえばいける\n",
    "df[\"value5\"] = df.value1 / 10\n",
    "print(df)"
   ]
  },
  {
   "cell_type": "code",
   "execution_count": 33,
   "metadata": {},
   "outputs": [
    {
     "data": {
      "text/html": [
       "<div>\n",
       "<style>\n",
       "    .dataframe thead tr:only-child th {\n",
       "        text-align: right;\n",
       "    }\n",
       "\n",
       "    .dataframe thead th {\n",
       "        text-align: left;\n",
       "    }\n",
       "\n",
       "    .dataframe tbody tr th {\n",
       "        vertical-align: top;\n",
       "    }\n",
       "</style>\n",
       "<table border=\"1\" class=\"dataframe\">\n",
       "  <thead>\n",
       "    <tr style=\"text-align: right;\">\n",
       "      <th></th>\n",
       "      <th>id</th>\n",
       "    </tr>\n",
       "  </thead>\n",
       "  <tbody>\n",
       "    <tr>\n",
       "      <th>2</th>\n",
       "      <td>789</td>\n",
       "    </tr>\n",
       "  </tbody>\n",
       "</table>\n",
       "</div>"
      ],
      "text/plain": [
       "    id\n",
       "2  789"
      ]
     },
     "execution_count": 33,
     "metadata": {},
     "output_type": "execute_result"
    }
   ],
   "source": [
    "# listに含まれるidの行だけ消したい\n",
    "list_exc = [123, 456]\n",
    "df = pd.DataFrame({'id':[123,456,789]})\n",
    "df[~(df.id.isin(list_exc))]"
   ]
  },
  {
   "cell_type": "code",
   "execution_count": 35,
   "metadata": {},
   "outputs": [
    {
     "data": {
      "text/plain": [
       "datetime.datetime(2018, 4, 9, 21, 59, 6, 759461)"
      ]
     },
     "execution_count": 35,
     "metadata": {},
     "output_type": "execute_result"
    }
   ],
   "source": [
    "dt.datetime.today()"
   ]
  },
  {
   "cell_type": "code",
   "execution_count": null,
   "metadata": {},
   "outputs": [],
   "source": []
  },
  {
   "cell_type": "markdown",
   "metadata": {},
   "source": [
    "### 乱数生成を使った抽選スクリプト"
   ]
  },
  {
   "cell_type": "code",
   "execution_count": 4,
   "metadata": {
    "collapsed": true
   },
   "outputs": [],
   "source": [
    "# 抽選処理の関数を定義\n",
    "# 引数は抽選対象者のDataFrameと、当選者数\n",
    "def lottery(df, win_num):\n",
    "    #rand_num = np.random.randint(0, len(df), win_num) # 重複除外のパラメータがないのでよくない\n",
    "    rand_num = np.random.choice(len(df), win_num, replace=False) # 重複除外して乱数生成\n",
    "    get_prize_user_list = list(df[\"id\"].loc[rand_num])\n",
    "    return get_prize_user_list\n",
    "\n",
    "# 与えられた引数の数だけ抽選処理をループする関数\n",
    "# 引数は抽選対象のidのDataFrameと、listにした引数\n",
    "# 最後に当選者のidを以降の抽選対象から外す\n",
    "def lottery_loop(df, args_list):\n",
    "    # 当選者全体のdictionary\n",
    "    get_prize_user_dict = {}\n",
    "    # 1等から順に処理\n",
    "    for i in range(len(args_list)):\n",
    "        get_prize_user_list = lottery(df, args_list[i])\n",
    "        get_prize_user_dict[str(i+1) + \"_prize\"] = get_prize_user_list\n",
    "        print(\"*******\")\n",
    "        print(str(i+1) + \"等の当選者: \" + str(get_prize_user_list))\n",
    "        print(\"*******\")\n",
    "        # csvに書き込み\n",
    "        write_csv(get_prize_user_list, i+1)\n",
    "        # 当選者を以降の抽選対象から除外\n",
    "        df = df[~(df.id.isin(get_prize_user_list))]\n",
    "        df = df.reset_index(drop=True)\n",
    "    return get_prize_user_dict\n",
    "\n",
    "# 当選者をcsvファイルに書き込む関数\n",
    "# 引数は当選者のリストと、当選した等\n",
    "### aggregation_timeはスクリプトの実行時間（UTC）\n",
    "def write_csv(get_prize_user_list, prize_number):\n",
    "    today = dt.datetime.today()\n",
    "    aggregation_time = today.strftime(\"%Y-%m-%d %H:%M:%S\")\n",
    "    f = open(filename_result, mode=\"a\", encoding=\"utf-8\", newline=None)\n",
    "    for i in range(len(get_prize_user_list)):\n",
    "        f.write(str(get_prize_user_list[i]) + \",\" + str(prize_number) + \",\" + aggregation_time + \"\\n\")\n",
    "    f.close()"
   ]
  },
  {
   "cell_type": "code",
   "execution_count": 5,
   "metadata": {},
   "outputs": [
    {
     "name": "stdout",
     "output_type": "stream",
     "text": [
      "*******\n",
      "1等の当選者: [888]\n",
      "*******\n",
      "*******\n",
      "2等の当選者: [222, 777, 666, 555]\n",
      "*******\n"
     ]
    }
   ],
   "source": [
    "filename_result = \"test.csv\"\n",
    "df = pd.DataFrame({\"id\":[111,222,333,444,555,666,777,888,999]})\n",
    "args_list = [1,4]\n",
    "result = lottery_loop(df, args_list)"
   ]
  },
  {
   "cell_type": "code",
   "execution_count": null,
   "metadata": {
    "collapsed": true
   },
   "outputs": [],
   "source": []
  },
  {
   "cell_type": "code",
   "execution_count": null,
   "metadata": {
    "collapsed": true
   },
   "outputs": [],
   "source": []
  },
  {
   "cell_type": "code",
   "execution_count": null,
   "metadata": {
    "collapsed": true
   },
   "outputs": [],
   "source": []
  }
 ],
 "metadata": {
  "kernelspec": {
   "display_name": "Python 3",
   "language": "python",
   "name": "python3"
  },
  "language_info": {
   "codemirror_mode": {
    "name": "ipython",
    "version": 3
   },
   "file_extension": ".py",
   "mimetype": "text/x-python",
   "name": "python",
   "nbconvert_exporter": "python",
   "pygments_lexer": "ipython3",
   "version": "3.6.2"
  }
 },
 "nbformat": 4,
 "nbformat_minor": 2
}
