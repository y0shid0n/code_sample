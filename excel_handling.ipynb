{
 "cells": [
  {
   "cell_type": "markdown",
   "metadata": {},
   "source": [
    "# excelファイルの読み書き\n",
    "\n",
    "pandasでexcelファイルの読み込み  \n",
    "https://note.nkmk.me/python-pandas-read-excel/\n",
    "\n",
    "pandasでexcelファイルの書き込み  \n",
    "https://note.nkmk.me/python-pandas-to-excel/"
   ]
  },
  {
   "cell_type": "code",
   "execution_count": 1,
   "metadata": {},
   "outputs": [],
   "source": [
    "import pandas as pd\n",
    "import openpyxl as px"
   ]
  },
  {
   "cell_type": "code",
   "execution_count": 2,
   "metadata": {},
   "outputs": [
    {
     "name": "stdout",
     "output_type": "stream",
     "text": [
      "   id   名前   金額\n",
      "0   1  あああ  100\n",
      "1   2  いいい    1\n",
      "2   3  ううう    0\n",
      "3   4  えええ    0\n",
      "4   5  おおお   10\n"
     ]
    }
   ],
   "source": [
    "# excelファイルをpandasで読み込み\n",
    "\n",
    "df = pd.read_excel('./data/excel_handling_testdata.xlsx')\n",
    "\n",
    "print(df)"
   ]
  },
  {
   "cell_type": "code",
   "execution_count": 3,
   "metadata": {},
   "outputs": [],
   "source": [
    "# DataFrameをexcelファイルへ出力\n",
    "# index=Trueにすると、indexも出力される\n",
    "# 1つのDataFrameを出力するだけならこれでOK\n",
    "\n",
    "df.to_excel(\"./data/excel_handling_testdata_export.xlsx\", index=False)"
   ]
  },
  {
   "cell_type": "code",
   "execution_count": 8,
   "metadata": {},
   "outputs": [],
   "source": [
    "# 2つ以上のDataFrameをexcelに出力する場合\n",
    "# こちらは新規ファイルでの出力\n",
    "# 既存ファイルにも書き込めるが、既存のシートが全て削除されて、書き込んだシートのみになる\n",
    "\n",
    "filepath = \"./data/excel_handling_testdata_export_2.xlsx\"\n",
    "\n",
    "with pd.ExcelWriter(filepath, engine=\"openpyxl\") as writer:\n",
    "    df.to_excel(writer, sheet_name=\"1枚目\", index=False)\n",
    "    df.to_excel(writer, sheet_name=\"2枚目\", index=False)"
   ]
  },
  {
   "cell_type": "code",
   "execution_count": 7,
   "metadata": {},
   "outputs": [],
   "source": [
    "# 既存のファイルに新しいシートを作成して出力\n",
    "\n",
    "with pd.ExcelWriter(filepath, engine=\"openpyxl\") as writer:\n",
    "    writer.book = px.load_workbook(filepath)\n",
    "    df.to_excel(writer, sheet_name=\"3枚目\", index=False)"
   ]
  },
  {
   "cell_type": "code",
   "execution_count": 9,
   "metadata": {},
   "outputs": [],
   "source": [
    "# 既存ファイルの編集\n"
   ]
  },
  {
   "cell_type": "code",
   "execution_count": null,
   "metadata": {},
   "outputs": [],
   "source": []
  }
 ],
 "metadata": {
  "kernelspec": {
   "display_name": "Python 3",
   "language": "python",
   "name": "python3"
  },
  "language_info": {
   "codemirror_mode": {
    "name": "ipython",
    "version": 3
   },
   "file_extension": ".py",
   "mimetype": "text/x-python",
   "name": "python",
   "nbconvert_exporter": "python",
   "pygments_lexer": "ipython3",
   "version": "3.6.4"
  }
 },
 "nbformat": 4,
 "nbformat_minor": 2
}
